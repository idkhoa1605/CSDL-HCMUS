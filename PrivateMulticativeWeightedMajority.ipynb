{
  "nbformat": 4,
  "nbformat_minor": 0,
  "metadata": {
    "colab": {
      "name": "PrivateMulticativeWeightedMajority.ipynb",
      "provenance": [],
      "collapsed_sections": [],
      "include_colab_link": true
    },
    "kernelspec": {
      "name": "python3",
      "display_name": "Python 3"
    },
    "language_info": {
      "name": "python"
    }
  },
  "cells": [
    {
      "cell_type": "markdown",
      "metadata": {
        "id": "view-in-github",
        "colab_type": "text"
      },
      "source": [
        "<a href=\"https://colab.research.google.com/github/idkhoa1605/CSDL-HCMUS/blob/main/PrivateMulticativeWeightedMajority.ipynb\" target=\"_parent\"><img src=\"https://colab.research.google.com/assets/colab-badge.svg\" alt=\"Open In Colab\"/></a>"
      ]
    },
    {
      "cell_type": "markdown",
      "source": [
        "# Câu 2: Mô phỏng học trực tuyến\n",
        "MSSV: 18120040\n",
        "\n",
        "Họ tên: Nguyễn Đăng Khoa\n",
        "\n"
      ],
      "metadata": {
        "id": "hPncaSOP37OF"
      }
    },
    {
      "cell_type": "markdown",
      "source": [
        "## Tiền xử lí \n"
      ],
      "metadata": {
        "id": "7aKMiuc44zse"
      }
    },
    {
      "cell_type": "markdown",
      "source": [
        "### Chuẩn bị dữ liệu\n",
        "Trong bài làm này, nhóm em sử dụng bộ dữ liệu giá nhà ở California. Tải bộ dữ liệu [tại đây](https://drive.google.com/file/d/1-nFIMko7L5erYkmKk-RqjsBV-jADpIeS/view?usp=sharing)\n",
        "Ta sẽ dự đoán `median_house_value` bằng cách sử dụng các đặc trưng khác"
      ],
      "metadata": {
        "id": "3Zz6oTGqmAGv"
      }
    },
    {
      "cell_type": "code",
      "source": [
        "# Cài đặt thư viện cần thiết\n",
        "import pandas as pd\n",
        "import numpy as np\n",
        "from sklearn.model_selection import train_test_split\n",
        "from sklearn.metrics import mean_absolute_error\n",
        "df = pd.read_csv('housing.csv')\n",
        "df.head()"
      ],
      "metadata": {
        "colab": {
          "base_uri": "https://localhost:8080/",
          "height": 206
        },
        "id": "5HYayAZZl_HY",
        "outputId": "17871071-7c2d-4582-cddb-6c2ad527c7f8"
      },
      "execution_count": 1,
      "outputs": [
        {
          "output_type": "execute_result",
          "data": {
            "text/html": [
              "\n",
              "  <div id=\"df-5e239b51-6f5c-476b-9cf0-ae333f8b7268\">\n",
              "    <div class=\"colab-df-container\">\n",
              "      <div>\n",
              "<style scoped>\n",
              "    .dataframe tbody tr th:only-of-type {\n",
              "        vertical-align: middle;\n",
              "    }\n",
              "\n",
              "    .dataframe tbody tr th {\n",
              "        vertical-align: top;\n",
              "    }\n",
              "\n",
              "    .dataframe thead th {\n",
              "        text-align: right;\n",
              "    }\n",
              "</style>\n",
              "<table border=\"1\" class=\"dataframe\">\n",
              "  <thead>\n",
              "    <tr style=\"text-align: right;\">\n",
              "      <th></th>\n",
              "      <th>longitude</th>\n",
              "      <th>latitude</th>\n",
              "      <th>housing_median_age</th>\n",
              "      <th>total_rooms</th>\n",
              "      <th>total_bedrooms</th>\n",
              "      <th>population</th>\n",
              "      <th>households</th>\n",
              "      <th>median_income</th>\n",
              "      <th>median_house_value</th>\n",
              "      <th>ocean_proximity</th>\n",
              "    </tr>\n",
              "  </thead>\n",
              "  <tbody>\n",
              "    <tr>\n",
              "      <th>0</th>\n",
              "      <td>-122.23</td>\n",
              "      <td>37.88</td>\n",
              "      <td>41.0</td>\n",
              "      <td>880.0</td>\n",
              "      <td>129.0</td>\n",
              "      <td>322.0</td>\n",
              "      <td>126.0</td>\n",
              "      <td>8.3252</td>\n",
              "      <td>452600.0</td>\n",
              "      <td>NEAR BAY</td>\n",
              "    </tr>\n",
              "    <tr>\n",
              "      <th>1</th>\n",
              "      <td>-122.22</td>\n",
              "      <td>37.86</td>\n",
              "      <td>21.0</td>\n",
              "      <td>7099.0</td>\n",
              "      <td>1106.0</td>\n",
              "      <td>2401.0</td>\n",
              "      <td>1138.0</td>\n",
              "      <td>8.3014</td>\n",
              "      <td>358500.0</td>\n",
              "      <td>NEAR BAY</td>\n",
              "    </tr>\n",
              "    <tr>\n",
              "      <th>2</th>\n",
              "      <td>-122.24</td>\n",
              "      <td>37.85</td>\n",
              "      <td>52.0</td>\n",
              "      <td>1467.0</td>\n",
              "      <td>190.0</td>\n",
              "      <td>496.0</td>\n",
              "      <td>177.0</td>\n",
              "      <td>7.2574</td>\n",
              "      <td>352100.0</td>\n",
              "      <td>NEAR BAY</td>\n",
              "    </tr>\n",
              "    <tr>\n",
              "      <th>3</th>\n",
              "      <td>-122.25</td>\n",
              "      <td>37.85</td>\n",
              "      <td>52.0</td>\n",
              "      <td>1274.0</td>\n",
              "      <td>235.0</td>\n",
              "      <td>558.0</td>\n",
              "      <td>219.0</td>\n",
              "      <td>5.6431</td>\n",
              "      <td>341300.0</td>\n",
              "      <td>NEAR BAY</td>\n",
              "    </tr>\n",
              "    <tr>\n",
              "      <th>4</th>\n",
              "      <td>-122.25</td>\n",
              "      <td>37.85</td>\n",
              "      <td>52.0</td>\n",
              "      <td>1627.0</td>\n",
              "      <td>280.0</td>\n",
              "      <td>565.0</td>\n",
              "      <td>259.0</td>\n",
              "      <td>3.8462</td>\n",
              "      <td>342200.0</td>\n",
              "      <td>NEAR BAY</td>\n",
              "    </tr>\n",
              "  </tbody>\n",
              "</table>\n",
              "</div>\n",
              "      <button class=\"colab-df-convert\" onclick=\"convertToInteractive('df-5e239b51-6f5c-476b-9cf0-ae333f8b7268')\"\n",
              "              title=\"Convert this dataframe to an interactive table.\"\n",
              "              style=\"display:none;\">\n",
              "        \n",
              "  <svg xmlns=\"http://www.w3.org/2000/svg\" height=\"24px\"viewBox=\"0 0 24 24\"\n",
              "       width=\"24px\">\n",
              "    <path d=\"M0 0h24v24H0V0z\" fill=\"none\"/>\n",
              "    <path d=\"M18.56 5.44l.94 2.06.94-2.06 2.06-.94-2.06-.94-.94-2.06-.94 2.06-2.06.94zm-11 1L8.5 8.5l.94-2.06 2.06-.94-2.06-.94L8.5 2.5l-.94 2.06-2.06.94zm10 10l.94 2.06.94-2.06 2.06-.94-2.06-.94-.94-2.06-.94 2.06-2.06.94z\"/><path d=\"M17.41 7.96l-1.37-1.37c-.4-.4-.92-.59-1.43-.59-.52 0-1.04.2-1.43.59L10.3 9.45l-7.72 7.72c-.78.78-.78 2.05 0 2.83L4 21.41c.39.39.9.59 1.41.59.51 0 1.02-.2 1.41-.59l7.78-7.78 2.81-2.81c.8-.78.8-2.07 0-2.86zM5.41 20L4 18.59l7.72-7.72 1.47 1.35L5.41 20z\"/>\n",
              "  </svg>\n",
              "      </button>\n",
              "      \n",
              "  <style>\n",
              "    .colab-df-container {\n",
              "      display:flex;\n",
              "      flex-wrap:wrap;\n",
              "      gap: 12px;\n",
              "    }\n",
              "\n",
              "    .colab-df-convert {\n",
              "      background-color: #E8F0FE;\n",
              "      border: none;\n",
              "      border-radius: 50%;\n",
              "      cursor: pointer;\n",
              "      display: none;\n",
              "      fill: #1967D2;\n",
              "      height: 32px;\n",
              "      padding: 0 0 0 0;\n",
              "      width: 32px;\n",
              "    }\n",
              "\n",
              "    .colab-df-convert:hover {\n",
              "      background-color: #E2EBFA;\n",
              "      box-shadow: 0px 1px 2px rgba(60, 64, 67, 0.3), 0px 1px 3px 1px rgba(60, 64, 67, 0.15);\n",
              "      fill: #174EA6;\n",
              "    }\n",
              "\n",
              "    [theme=dark] .colab-df-convert {\n",
              "      background-color: #3B4455;\n",
              "      fill: #D2E3FC;\n",
              "    }\n",
              "\n",
              "    [theme=dark] .colab-df-convert:hover {\n",
              "      background-color: #434B5C;\n",
              "      box-shadow: 0px 1px 3px 1px rgba(0, 0, 0, 0.15);\n",
              "      filter: drop-shadow(0px 1px 2px rgba(0, 0, 0, 0.3));\n",
              "      fill: #FFFFFF;\n",
              "    }\n",
              "  </style>\n",
              "\n",
              "      <script>\n",
              "        const buttonEl =\n",
              "          document.querySelector('#df-5e239b51-6f5c-476b-9cf0-ae333f8b7268 button.colab-df-convert');\n",
              "        buttonEl.style.display =\n",
              "          google.colab.kernel.accessAllowed ? 'block' : 'none';\n",
              "\n",
              "        async function convertToInteractive(key) {\n",
              "          const element = document.querySelector('#df-5e239b51-6f5c-476b-9cf0-ae333f8b7268');\n",
              "          const dataTable =\n",
              "            await google.colab.kernel.invokeFunction('convertToInteractive',\n",
              "                                                     [key], {});\n",
              "          if (!dataTable) return;\n",
              "\n",
              "          const docLinkHtml = 'Like what you see? Visit the ' +\n",
              "            '<a target=\"_blank\" href=https://colab.research.google.com/notebooks/data_table.ipynb>data table notebook</a>'\n",
              "            + ' to learn more about interactive tables.';\n",
              "          element.innerHTML = '';\n",
              "          dataTable['output_type'] = 'display_data';\n",
              "          await google.colab.output.renderOutput(dataTable, element);\n",
              "          const docLink = document.createElement('div');\n",
              "          docLink.innerHTML = docLinkHtml;\n",
              "          element.appendChild(docLink);\n",
              "        }\n",
              "      </script>\n",
              "    </div>\n",
              "  </div>\n",
              "  "
            ],
            "text/plain": [
              "   longitude  latitude  ...  median_house_value  ocean_proximity\n",
              "0    -122.23     37.88  ...            452600.0         NEAR BAY\n",
              "1    -122.22     37.86  ...            358500.0         NEAR BAY\n",
              "2    -122.24     37.85  ...            352100.0         NEAR BAY\n",
              "3    -122.25     37.85  ...            341300.0         NEAR BAY\n",
              "4    -122.25     37.85  ...            342200.0         NEAR BAY\n",
              "\n",
              "[5 rows x 10 columns]"
            ]
          },
          "metadata": {},
          "execution_count": 1
        }
      ]
    },
    {
      "cell_type": "code",
      "source": [
        "# Tiền xử lý: Loại bỏ cột longtitude, latitude, encode cột ocean_proximity\n",
        "from sklearn.preprocessing import OrdinalEncoder\n",
        "\n",
        "ordinal_encoder = OrdinalEncoder()\n",
        "housing_cat_encoded = ordinal_encoder.fit_transform(df[['ocean_proximity']])\n",
        "df['ocean_encoded'] = housing_cat_encoded+1\n",
        "\n",
        "housing = df.drop([\"latitude\", \"longitude\",\"ocean_proximity\"], axis=1)\n",
        "median = housing[\"total_bedrooms\"].median()  # option 3\n",
        "housing[\"total_bedrooms\"].fillna(median, inplace=True)"
      ],
      "metadata": {
        "id": "PsNvHpzuU6Qc"
      },
      "execution_count": 2,
      "outputs": []
    },
    {
      "cell_type": "code",
      "source": [
        "# Chia thành 3 tập con D1, D2, D3 theo tỷ lệ 4:4:2\n",
        "rand_indices = np.random.permutation(len(df))\n",
        "\n",
        "D_trained_size = int(len(df) * 0.4)\n",
        "D1 = housing.iloc[rand_indices[:D_trained_size]].reset_index()\n",
        "D2 = housing.iloc[rand_indices[D_trained_size:D_trained_size * 2]].reset_index()\n",
        "D3 =  housing.iloc[rand_indices[: int(D_trained_size / 2)]].reset_index()"
      ],
      "metadata": {
        "id": "M7eMFwR1rwfl"
      },
      "execution_count": 3,
      "outputs": []
    },
    {
      "cell_type": "code",
      "source": [
        "# Chia tập train và test cho 3 bộ dữ liệu\n",
        "X1 = D1.copy().drop([\"index\",\"median_house_value\"], axis= 1)\n",
        "y1 = D1.loc[:, \"median_house_value\"]\n",
        "X_train_1, X_test_1, y_train_1, y_test_1 = train_test_split(X1, y1, test_size=0.2, random_state=42)\n",
        "\n",
        "\n",
        "X2 = D2.copy().drop([\"index\",\"median_house_value\"], axis= 1)\n",
        "y2 = D2.loc[:, \"median_house_value\"]\n",
        "X_train_2, X_test_2, y_train_2, y_test_2 = train_test_split(X2, y2, test_size=0.2, random_state=42)\n",
        "\n",
        "\n",
        "X3 = D3.copy().drop([\"index\",\"median_house_value\"], axis= 1)\n",
        "y3 = D3.loc[:, \"median_house_value\"]\n",
        "X_train_3, X_test_3, y_train_3, y_test_3 = train_test_split(X3, y3, test_size=0.2, random_state=42)"
      ],
      "metadata": {
        "id": "VGytzpGfLJet"
      },
      "execution_count": 4,
      "outputs": []
    },
    {
      "cell_type": "markdown",
      "source": [
        "## Huấn luyện và đánh giá cả 3 mô hình"
      ],
      "metadata": {
        "id": "0mVsQG7CdJDC"
      }
    },
    {
      "cell_type": "code",
      "source": [
        "# Huấn luyện 3 mô hình S_1, S_2, S_3\n",
        "from sklearn.linear_model import LinearRegression\n",
        "from sklearn.metrics import mean_squared_error\n",
        "\n",
        "S_1 = LinearRegression()\n",
        "S_1.fit(X_train_1, y_train_1)\n",
        "y_hat_1 = S_1.predict(X_test_1)\n",
        "MSE_1 = mean_squared_error(y_test_1, y_hat_1, squared=False)\n",
        "\n",
        "S_2 = LinearRegression()\n",
        "S_2.fit(X_train_2, y_train_2)\n",
        "y_hat_2 = S_2.predict(X_test_2)\n",
        "MSE_2 = mean_squared_error(y_test_2, y_hat_2, squared=False)\n",
        "\n",
        "S_model = LinearRegression()\n",
        "S_model.fit(X_train_3, y_train_3)\n",
        "y_hat_3 = S_model.predict(X_test_3)\n",
        "MSE_3 = mean_squared_error(y_test_3, y_hat_3, squared=False)"
      ],
      "metadata": {
        "id": "T_K9hWNjY4bo"
      },
      "execution_count": 5,
      "outputs": []
    },
    {
      "cell_type": "markdown",
      "source": [
        "## Thuật giải đồng thuận\n"
      ],
      "metadata": {
        "id": "HsEmXPngdPKX"
      }
    },
    {
      "cell_type": "code",
      "source": [
        "import warnings\n",
        "warnings.filterwarnings(\"ignore\")\n",
        "\n",
        "import random\n",
        "\n",
        "### Thuat giai dong thuan su dung co che Luy thua\n",
        "#   @parameter:\n",
        "#       - model: np.array([LinerRegression(), ...]) - mang cac mo hinh \n",
        "#       - data: np.array([X_train, y_train]) - Bo du lieu gui di cho cac mo hinh\n",
        "#       - target_model: LinerRegression.coef_  - tham so cua mo hinh can hoc\n",
        "#       - T: int - so luong vong can thuc hien\n",
        "#       - epsilon: float - Ngan sach bao mat\n",
        "#       - theta: float - Do chinh xac\n",
        "#   @Output:\n",
        "#       - Regret: np.array(k) - Mang trung binh mat mat cua cac thuat giai A tren T vong\n",
        "\n",
        "\n",
        "def PrivateMVM(models, data, target_model, T = 10, epsilon = 1.0, theta= 0.8):\n",
        "  # Tinh cac tham so can thiet\n",
        "  learning_rate = epsilon / np.sqrt(32 * T * np.log(1 / theta))\n",
        "  n = len(data[0])\n",
        "  k = len(models)\n",
        "  l_t = np.zeros(k)\n",
        "\n",
        "  # Khoi tao trong so cho tung chuyen gia\n",
        "  W = np.ones(k)\n",
        "  for _ in range(T):\n",
        "    weights_model = W / np.sum(W)\n",
        "    picked = np.array(random.choices(list(enumerate(models)), weights = weights_model, k = n))\n",
        "    print(target_model)\n",
        "    for x in range(n):\n",
        "      i = picked[x][0]\n",
        "      l_i_t = picked[x][1].predict([data[0][x]]) - data[1][x]\n",
        "      target_model -= learning_rate * data[0][x] * l_i_t\n",
        "      W[i] = W[i] * np.exp(-learning_rate * l_i_t)\n",
        "      l_t[i] += l_i_t\n",
        "\n",
        "  l_t /= T\n",
        "  l_t -= np.amin(l_t)\n",
        "  return l_t\n",
        "\n"
      ],
      "metadata": {
        "id": "yjm96kYBefpX"
      },
      "execution_count": 6,
      "outputs": []
    },
    {
      "cell_type": "code",
      "source": [
        "# Chuẩn bị dữ liệu để chạy thuật giải\n",
        "experts = [S_1, S_2]\n",
        "train_data = []\n",
        "train_data.append(np.array(X_train_3))\n",
        "train_data.append(np.array(y_train_3))"
      ],
      "metadata": {
        "id": "s637MxE-qbEM"
      },
      "execution_count": 7,
      "outputs": []
    },
    {
      "cell_type": "code",
      "source": [
        "Regret = PrivateMVM(experts, train_data, S_model.coef_, 20)"
      ],
      "metadata": {
        "id": "vHspLZ3P-jLF",
        "colab": {
          "base_uri": "https://localhost:8080/"
        },
        "outputId": "40207d17-4f9a-4317-8338-8ce7914faabe"
      },
      "execution_count": 8,
      "outputs": [
        {
          "output_type": "stream",
          "name": "stdout",
          "text": [
            "[ 1.90072704e+03 -2.58694919e+01  1.12060028e+02 -2.30354334e+01\n",
            "  1.19132052e+02  5.03282895e+04  4.94273652e+03]\n",
            "[ 4.70562336e+06  1.60686465e+09  3.85079161e+08  2.35864969e+09\n",
            "  3.70245554e+08  1.82972528e+06 -2.76689632e+05]\n",
            "[ 5.46444935e+06  3.38003252e+09  8.13868673e+08  4.87199327e+09\n",
            "  7.63511940e+08  3.05411374e+06 -6.77170820e+05]\n",
            "[ 6.22327534e+06  5.15320039e+09  1.24265818e+09  7.38533685e+09\n",
            "  1.15677833e+09  4.27850219e+06 -1.07765201e+06]\n",
            "[ 6.98210133e+06  6.92636826e+09  1.67144770e+09  9.89868043e+09\n",
            "  1.55004471e+09  5.50289065e+06 -1.47813319e+06]\n",
            "[ 7.74092732e+06  8.69953613e+09  2.10023721e+09  1.24120240e+10\n",
            "  1.94331110e+09  6.72727910e+06 -1.87861438e+06]\n",
            "[ 8.49975331e+06  1.04727040e+10  2.52902672e+09  1.49253676e+10\n",
            "  2.33657749e+09  7.95166756e+06 -2.27909557e+06]\n",
            "[ 9.25857930e+06  1.22458719e+10  2.95781623e+09  1.74387112e+10\n",
            "  2.72984387e+09  9.17605601e+06 -2.67957676e+06]\n",
            "[ 1.00174053e+07  1.40190397e+10  3.38660574e+09  1.99520547e+10\n",
            "  3.12311026e+09  1.04004445e+07 -3.08005794e+06]\n",
            "[ 1.07762313e+07  1.57922076e+10  3.81539526e+09  2.24653983e+10\n",
            "  3.51637664e+09  1.16248329e+07 -3.48053913e+06]\n",
            "[ 1.15350573e+07  1.75653755e+10  4.24418477e+09  2.49787419e+10\n",
            "  3.90964303e+09  1.28492214e+07 -3.88102032e+06]\n",
            "[ 1.22938833e+07  1.93385433e+10  4.67297428e+09  2.74920855e+10\n",
            "  4.30290942e+09  1.40736098e+07 -4.28150150e+06]\n",
            "[ 1.30527092e+07  2.11117112e+10  5.10176379e+09  3.00054291e+10\n",
            "  4.69617580e+09  1.52979983e+07 -4.68198269e+06]\n",
            "[ 1.38115352e+07  2.28848791e+10  5.53055330e+09  3.25187726e+10\n",
            "  5.08944219e+09  1.65223867e+07 -5.08246388e+06]\n",
            "[ 1.45703612e+07  2.46580470e+10  5.95934281e+09  3.50321162e+10\n",
            "  5.48270858e+09  1.77467752e+07 -5.48294506e+06]\n",
            "[ 1.53291872e+07  2.64312148e+10  6.38813233e+09  3.75454598e+10\n",
            "  5.87597496e+09  1.89711637e+07 -5.88342625e+06]\n",
            "[ 1.60880132e+07  2.82043827e+10  6.81692184e+09  4.00588034e+10\n",
            "  6.26924135e+09  2.01955521e+07 -6.28390744e+06]\n",
            "[ 1.68468392e+07  2.99775506e+10  7.24571135e+09  4.25721470e+10\n",
            "  6.66250773e+09  2.14199406e+07 -6.68438863e+06]\n",
            "[ 1.76056652e+07  3.17507184e+10  7.67450086e+09  4.50854905e+10\n",
            "  7.05577412e+09  2.26443290e+07 -7.08486981e+06]\n",
            "[ 1.83644912e+07  3.35238863e+10  8.10329037e+09  4.75988341e+10\n",
            "  7.44904051e+09  2.38687175e+07 -7.48535100e+06]\n"
          ]
        }
      ]
    },
    {
      "cell_type": "code",
      "source": [
        "# Chạy thử mô hình\n",
        "y_hat_3_1 = S_model.predict(X_test_3)\n",
        "MSE_4 = mean_squared_error(y_test_3, y_hat_3_1, squared=False)\n",
        "MSE_4"
      ],
      "metadata": {
        "id": "kmxsVEmbChVI",
        "colab": {
          "base_uri": "https://localhost:8080/"
        },
        "outputId": "29bcfdb2-6d7e-461a-b2f0-5ed4607dcf36"
      },
      "execution_count": 9,
      "outputs": [
        {
          "output_type": "execute_result",
          "data": {
            "text/plain": [
              "200400766655478.62"
            ]
          },
          "metadata": {},
          "execution_count": 9
        }
      ]
    },
    {
      "cell_type": "code",
      "source": [
        "Regret"
      ],
      "metadata": {
        "id": "FjeSncXELaxZ",
        "colab": {
          "base_uri": "https://localhost:8080/"
        },
        "outputId": "e032366a-6738-412b-984e-ddd01e58c9dd"
      },
      "execution_count": 10,
      "outputs": [
        {
          "output_type": "execute_result",
          "data": {
            "text/plain": [
              "array([1069007.55793102,       0.        ])"
            ]
          },
          "metadata": {},
          "execution_count": 10
        }
      ]
    }
  ]
}